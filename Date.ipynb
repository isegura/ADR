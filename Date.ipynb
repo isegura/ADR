{
  "nbformat": 4,
  "nbformat_minor": 0,
  "metadata": {
    "colab": {
      "name": "Date.ipynb",
      "provenance": [],
      "collapsed_sections": [],
      "include_colab_link": true
    },
    "kernelspec": {
      "name": "python3",
      "display_name": "Python 3"
    }
  },
  "cells": [
    {
      "cell_type": "markdown",
      "metadata": {
        "id": "view-in-github",
        "colab_type": "text"
      },
      "source": [
        "<a href=\"https://colab.research.google.com/github/isegura/ADR/blob/master/Date.ipynb\" target=\"_parent\"><img src=\"https://colab.research.google.com/assets/colab-badge.svg\" alt=\"Open In Colab\"/></a>"
      ]
    },
    {
      "cell_type": "markdown",
      "metadata": {
        "id": "Lc_MfCDy7-I-"
      },
      "source": [
        "# Implementation of our own class to represent dates "
      ]
    },
    {
      "cell_type": "code",
      "metadata": {
        "id": "xWEMq4SQ79Zb"
      },
      "source": [
        "#This is an atribute of the class. That is, all objects share this attribute.\n",
        "MONTH={1:'January',2:'February',3:'March',4:'April',5:'May',\n",
        "      6:'June', 7:'July', 8:'August', 9:'September',\n",
        "      10:'October',11:'November',12:'December'}\n",
        "\n",
        "class Date:\n",
        "   \n",
        "  def __init__(self, day, month, year):\n",
        "    self._day = day\n",
        "    self._month = month\n",
        "    self._year = year\n",
        "\n",
        "\n",
        "  def day(self):\n",
        "    return self._day\n",
        "    \n",
        "  def month(self):\n",
        "    return self._month\n",
        "    \n",
        "  def year(self):\n",
        "    return self._year\n",
        "      \n",
        "  def monthName(self):\n",
        "    return MONTH[self._month] \n",
        "    \n",
        "  def __str__(self):\n",
        "    \"\"\"returns the date in format dd-mm-yyyy\"\"\"\n",
        "    return str(self._day)+'-'+str(self._month)+'-'+str(self._year)\n",
        "    \n",
        "  def is_leap_year(self):\n",
        "    \"\"\"Determine whether a year is a leap year.\"\"\"\n",
        "    return self._year % 4 == 0 and (self._year % 100 != 0 or self._year % 400 == 0)\n",
        "    \n",
        "  \n",
        "          \n",
        "      \n",
        "      \n"
      ],
      "execution_count": 3,
      "outputs": []
    },
    {
      "cell_type": "markdown",
      "metadata": {
        "id": "dma0vmfhLkI4"
      },
      "source": [
        "Now, we create some instances (objects) of the Date class, and test some methods. \n"
      ]
    },
    {
      "cell_type": "code",
      "metadata": {
        "id": "GtjE3xvVLsdJ",
        "colab": {
          "base_uri": "https://localhost:8080/"
        },
        "outputId": "e058920a-afa1-4dd6-98ba-af8279840695"
      },
      "source": [
        "\n",
        "d1=Date(31,1,2019)\n",
        "print(\"Date: {} \".format(str(d1)))\n",
        "print(\"Its month name is {}\".format(d1.monthName()))\n",
        "print(\"Is it a leap year? {}\".format(d1.is_leap_year()))\n",
        "print()\n",
        "\n",
        "d2=Date(3,10,2016)\n",
        "print(\"Date: {} \".format(str(d2)))\n",
        "print(\"Its month name is {}\".format(d2.monthName()))\n",
        "print(\"Is it a leap year? {}\".format(d2.is_leap_year()))\n"
      ],
      "execution_count": 4,
      "outputs": [
        {
          "output_type": "stream",
          "text": [
            "Date: 31-1-2019 \n",
            "Its month name is January\n",
            "Is it a leap year? False\n",
            "\n",
            "Date: 3-10-2016 \n",
            "Its month name is October\n",
            "Is it a leap year? True\n"
          ],
          "name": "stdout"
        }
      ]
    },
    {
      "cell_type": "markdown",
      "metadata": {
        "id": "P3MUV8EMohN9"
      },
      "source": [
        "Now, we implement some operators to compare dates.\n",
        "\n",
        "- operator.$__lt__$(a, b) is equivalent to a < b,\n",
        "- operator.$__le__$(a, b) is equivalent to a <= b,\n",
        "- operator.$__eq__$(a, b) is is equivalent to a == b,\n",
        "- operator.$__ne__$(a, b) is equivalent to a != b\n",
        "- operator.$__ge__$(a, b) is equivalent to a >= b\n",
        "- operator.$__gt__$(a, b) is equivalent to a > b\n",
        "\n",
        "\n",
        "You can find more information about these operators at :\n",
        "https://docs.python.org/3/library/operator.html"
      ]
    },
    {
      "cell_type": "code",
      "metadata": {
        "id": "Zi4RuucZma04",
        "colab": {
          "base_uri": "https://localhost:8080/"
        },
        "outputId": "b192076b-3205-4fd6-a0a0-01efe2fde0c0"
      },
      "source": [
        "#operator.__lt__(a, b) is equivalent to a < b,\n",
        "#operator.__le__(a, b) is equivalent to a <= b,\n",
        "#operator.__eq__(a, b) is is equivalent to a == b,\n",
        "#operator.__ne__(a, b) is equivalent to a != b\n",
        "#operator.__ge__(a, b) is equivalent to a >= b\n",
        "#operator.__gt__(a, b) is equivalent to a > b\n",
        "class Date2(Date):\n",
        "  def __eq__(self,other):\n",
        "    \"\"\"#operator.__eq__(a, b) is is equivalent to a == b\"\"\"\n",
        "    return self._day==other._day and self._month==other._month and self._year==other._year\n",
        "\n",
        "  def __ne__(self,other):\n",
        "    \"\"\"#operator.__ne__(a, b) is equivalent to a != b\"\"\"\n",
        "    return self._day!=other._day or self._month!=other._month and self._year!=other._year\n",
        "\n",
        "  def __lt__(self,other):\n",
        "    \"\"\"#operator.__lt__(a, b) is equivalent to a < b,\"\"\"\n",
        "    if self._year < other._year:\n",
        "      return True\n",
        "    elif self._year > other._year:\n",
        "      return False\n",
        "\n",
        "    ## self.year == other.year\n",
        "    if self._month < other._month:\n",
        "      return True\n",
        "    elif self._month > other._month:\n",
        "      return False\n",
        "\n",
        "    #self.month = other.month\n",
        "\n",
        "    if self._day<other._day:\n",
        "      return True\n",
        "    else:\n",
        "      return False\n",
        "\n",
        "d1=Date2(29,1,2020)\n",
        "d2=Date2(30,1,2020)\n",
        "\n",
        "print('{} == {} ? {}'.format(d1,d2,d1==d2))\n",
        "print('{} == {} ? {}'.format(d1,d1,d1==d1))\n",
        "\n",
        "print('{} != {} ? {}'.format(d1,d2,d1!=d2))\n",
        "\n",
        "print('{} < {} ? {}'.format(d1,d2,d1<d2))\n",
        "print('{} < {} ? {}'.format(d2,d1,d2<d1))\n",
        "print('{} < {} ? {}'.format(d1,d1,d1<d1))\n"
      ],
      "execution_count": 5,
      "outputs": [
        {
          "output_type": "stream",
          "text": [
            "29-1-2020 == 30-1-2020 ? False\n",
            "29-1-2020 == 29-1-2020 ? True\n",
            "29-1-2020 != 30-1-2020 ? True\n",
            "29-1-2020 < 30-1-2020 ? True\n",
            "30-1-2020 < 29-1-2020 ? False\n",
            "29-1-2020 < 29-1-2020 ? False\n"
          ],
          "name": "stdout"
        }
      ]
    }
  ]
}