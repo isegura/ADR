{
  "nbformat": 4,
  "nbformat_minor": 0,
  "metadata": {
    "colab": {
      "name": "1-tfidf.ipynb",
      "provenance": [],
      "collapsed_sections": [],
      "include_colab_link": true
    },
    "kernelspec": {
      "name": "python3",
      "display_name": "Python 3"
    }
  },
  "cells": [
    {
      "cell_type": "markdown",
      "metadata": {
        "id": "view-in-github",
        "colab_type": "text"
      },
      "source": [
        "<a href=\"https://colab.research.google.com/github/isegura/ADR/blob/master/1_tfidf.ipynb\" target=\"_parent\"><img src=\"https://colab.research.google.com/assets/colab-badge.svg\" alt=\"Open In Colab\"/></a>"
      ]
    },
    {
      "cell_type": "markdown",
      "metadata": {
        "id": "4Gm0kEk15uOd"
      },
      "source": [
        "# Vectorizaction\n",
        "\n",
        "Convert text (words) to vectors of real numbers, which will be the input of the machine learning algorithms.\n"
      ]
    },
    {
      "cell_type": "code",
      "metadata": {
        "id": "cF2QXtCK8t0K"
      },
      "source": [
        "import nltk\n",
        "#nltk.download('stopwords')\n",
        "from nltk.corpus import stopwords\n",
        "stop_words = set(stopwords.words('english'))\n",
        "\n",
        "# list of text documents\n",
        "texts = [\"The hotel was very expensive and not good\",\n",
        "\"The hotel was very good and not expensive\",\"The hotel was horrible\"]\n"
      ],
      "execution_count": null,
      "outputs": []
    },
    {
      "cell_type": "code",
      "metadata": {
        "colab": {
          "base_uri": "https://localhost:8080/"
        },
        "id": "nsAJa4y9pesC",
        "outputId": "29470e7c-582b-4785-c2a8-032039baf6ee"
      },
      "source": [
        "from sklearn.feature_extraction.text import CountVectorizer\n",
        "# create the transform\n",
        "vectorizer = CountVectorizer(stop_words=stop_words)\n",
        "# tokenize and build vocab\n",
        "vectorizer.fit(texts)\n",
        "# summarize\n",
        "print('Tamaño del vocabulario:',len(vectorizer.vocabulary_))\n",
        "\n",
        "from operator import itemgetter\n",
        "print(sorted(vectorizer.vocabulary_.items(), key=itemgetter(1)))\n",
        "\n",
        "# encode document\n",
        "\n"
      ],
      "execution_count": null,
      "outputs": [
        {
          "output_type": "stream",
          "text": [
            "Tamaño del vocabulario: 4\n",
            "[('expensive', 0), ('good', 1), ('horrible', 2), ('hotel', 3)]\n"
          ],
          "name": "stdout"
        }
      ]
    },
    {
      "cell_type": "code",
      "metadata": {
        "id": "oA1ljUPWMlHf",
        "colab": {
          "base_uri": "https://localhost:8080/"
        },
        "outputId": "e53da19f-6bf1-4e46-89f5-a4812bd5b384"
      },
      "source": [
        "for i in range(len(texts)):\n",
        "  vector = vectorizer.transform([texts[i]])\n",
        "  # summarize encoded vector\n",
        "  #print(vector.shape)\n",
        "  #print(type(vectors))\n",
        "  print('{}->{}:\\t{}'.format(texts[i],cleaned_texts[i],vector.toarray()))\n"
      ],
      "execution_count": null,
      "outputs": [
        {
          "output_type": "stream",
          "text": [
            "The hotel was very expensive and not good->hotel expensive good:\t[[1 1 0 1]]\n",
            "The hotel was very good and not expensive->hotel good expensive:\t[[1 1 0 1]]\n",
            "The hotel was horrible->hotel horrible:\t[[0 0 1 1]]\n"
          ],
          "name": "stdout"
        }
      ]
    },
    {
      "cell_type": "markdown",
      "metadata": {
        "id": "HYLdolFEPyRc"
      },
      "source": [
        "## Tf-idf"
      ]
    },
    {
      "cell_type": "code",
      "metadata": {
        "id": "Xf51Yrq8Pz4g",
        "colab": {
          "base_uri": "https://localhost:8080/"
        },
        "outputId": "80360378-6e5d-4e74-98e2-8aec49828921"
      },
      "source": [
        "from sklearn.feature_extraction.text import TfidfVectorizer\n",
        "# list of text documents\n",
        "\n",
        "# create the transform\n",
        "vectorizer = TfidfVectorizer(stop_words=stop_words)\n",
        "# tokenize and build vocab\n",
        "vectorizer.fit(texts)\n",
        "# summarize\n",
        "#print(vectorizer.vocabulary_)\n",
        "#print(sorted(vectorizer.vocabulary_.items(), key=itemgetter(1)))\n",
        "\n",
        "#print(vectorizer.idf_)\n"
      ],
      "execution_count": null,
      "outputs": [
        {
          "output_type": "stream",
          "text": [
            "[('expensive', 0), ('good', 1), ('horrible', 2), ('hotel', 3)]\n"
          ],
          "name": "stdout"
        }
      ]
    },
    {
      "cell_type": "code",
      "metadata": {
        "id": "XvamosvJP7_2",
        "colab": {
          "base_uri": "https://localhost:8080/"
        },
        "outputId": "d61b5772-79ef-4f0d-d732-b74fdaa14653"
      },
      "source": [
        "print(sorted(vectorizer.vocabulary_.items(), key=itemgetter(1)))\n",
        "\n",
        "for i in range(len(texts)):\n",
        "  vector = vectorizer.transform([texts[i]])\n",
        "  # summarize encoded vector\n",
        "  #print(vector.shape)\n",
        "  #print(type(vectors))\n",
        "  print('{}:\\t{}'.format(texts[i],vector.toarray()))\n",
        "  "
      ],
      "execution_count": null,
      "outputs": [
        {
          "output_type": "stream",
          "text": [
            "[('expensive', 0), ('good', 1), ('horrible', 2), ('hotel', 3)]\n",
            "The hotel was very expensive and not good:\t[[0.61980538 0.61980538 0.         0.48133417]]\n",
            "The hotel was very good and not expensive:\t[[0.61980538 0.61980538 0.         0.48133417]]\n",
            "The hotel was horrible:\t[[0.         0.         0.861037   0.50854232]]\n"
          ],
          "name": "stdout"
        }
      ]
    }
  ]
}